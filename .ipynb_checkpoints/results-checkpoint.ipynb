{
 "cells": [
  {
   "cell_type": "code",
   "execution_count": null,
   "id": "a673e22f-f4bf-4112-ac50-d7cbe2c2bad1",
   "metadata": {},
   "outputs": [],
   "source": [
    "import pandas as pd\n",
    " \n",
    "datasets = ['amazon', 'celeba', 'gaussian', 'moons', 'bindingdb']\n",
    "# amazon_dataset = pd.read_csv(f'./history/subfolder/metrics_amazon.csv')\n",
    "# amazon_subcats = [\"apparel\" \"bath\" \"bedding\" \"carseats\" \"diaper\" \"feeding\" \"furniture\" \"gear\" \"health\" \"media\" \"safety\" \"toys\"]\n",
    "# layers = [2, 3]\n",
    "# norm = 'fro'\n",
    " \n",
    "data = datasets[1]\n",
    "csv_file_path = f'./history/3layer_diffmf1/metrics_{data}.csv'\n",
    " \n",
    "# Read the CSV file into a DataFrame\n",
    "df = pd.read_csv(csv_file_path)\n",
    "df = df.drop(columns=['best_train_jaccard', 'best_train_loss', 'epoch_time', 'fold', 'memory_used_MB'])\n",
    " \n",
    "# , 'fwd_solver', 'bwd_solver'\n",
    "mean_df = df.query('norm == \"nuc\" and amazon_cat == \"toys\"').groupby(['norm', 'lr', 'layers', 'fwd_solver', 'bwd_solver']).mean().sort_values('best_val_jaccard', ascending=False)\n",
    "std_df = df.query('norm == \"nuc\" and amazon_cat == \"toys\"').groupby(['norm', 'lr', 'layers', 'fwd_solver', 'bwd_solver']).std()\n",
    " \n",
    "# print(df.head())\n",
    "# mean_df\n",
    " \n",
    "merged = pd.merge(mean_df, std_df, on=['norm', 'lr', 'layers', 'fwd_solver', 'bwd_solver'], suffixes=('-mean','-std')) # .set_index('Dates')\n",
    "merged.columns = merged.columns.str.split('-', expand=True)\n",
    "merged = merged.sort_index(level=[0,1], axis=1)\n",
    " \n",
    "# merged_df = mean_df.merge(std_df, on=['norm', 'lr'])\n",
    " \n",
    "merged.round(2)"
   ]
  },
  {
   "cell_type": "code",
   "execution_count": null,
   "id": "4c25b798-b4c7-48e4-afff-c395c9922cb1",
   "metadata": {},
   "outputs": [],
   "source": [
    "datasets = ['amazon', 'celeba', 'gaussian', 'moons', 'bindingdb']\n",
    "# amazon_dataset = pd.read_csv(f'./history/subfolder/metrics_amazon.csv')\n",
    "# amazon_subcats = [\"apparel\" \"bath\" \"bedding\" \"carseats\" \"diaper\" \"feeding\" \"furniture\" \"gear\" \"health\" \"media\" \"safety\" \"toys\"]\n",
    "# layers = [2, 3]\n",
    "# norm = 'fro'\n",
    " \n",
    "data = datasets[0]\n",
    "csv_file_path = f'./history/sum/baseline_metrics_{data}.csv'\n",
    " \n",
    "# Read the CSV file into a DataFrame\n",
    "df = pd.read_csv(csv_file_path)\n",
    "df = df.drop(columns=['best_train_jaccard', 'best_train_loss', 'epoch_time', 'fold', 'memory_used_MB'])\n",
    " \n",
    "# , 'fwd_solver', 'bwd_solver'\n",
    "mean_df = df.query('amazon_cat == \"safety\"').groupby(['lr', 'layers', 'mode']).mean().sort_values('best_val_jaccard', ascending=False)\n",
    "std_df = df.query('amazon_cat == \"safety\"').groupby(['lr', 'layers', 'mode']).std()\n",
    " \n",
    "# print(df.head())\n",
    "# mean_df\n",
    " \n",
    "merged = pd.merge(mean_df, std_df, on=['lr', 'layers', 'mode'], suffixes=('-mean','-std')) # .set_index('Dates')\n",
    "merged.columns = merged.columns.str.split('-', expand=True)\n",
    "merged = merged.sort_index(level=[0,1], axis=1)\n",
    " \n",
    "# merged_df = mean_df.merge(std_df, on=['norm', 'lr'])\n",
    " \n",
    "merged.round(2)"
   ]
  }
 ],
 "metadata": {
  "kernelspec": {
   "display_name": "dsl",
   "language": "python",
   "name": "dsl"
  },
  "language_info": {
   "codemirror_mode": {
    "name": "ipython",
    "version": 3
   },
   "file_extension": ".py",
   "mimetype": "text/x-python",
   "name": "python",
   "nbconvert_exporter": "python",
   "pygments_lexer": "ipython3",
   "version": "3.8.0"
  }
 },
 "nbformat": 4,
 "nbformat_minor": 5
}
